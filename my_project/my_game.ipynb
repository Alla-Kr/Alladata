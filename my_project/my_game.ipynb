{
 "cells": [
  {
   "cell_type": "markdown",
   "metadata": {},
   "source": [
    "# Создаем игру \"угадай число\"\n",
    "Суть игры заключается в том, что компьютер загадывает число, а мы его должны угадать менее чем за 20 попыток."
   ]
  },
  {
   "cell_type": "code",
   "execution_count": null,
   "metadata": {},
   "outputs": [],
   "source": [
    "from my_game import random_predict"
   ]
  },
  {
   "cell_type": "markdown",
   "metadata": {},
   "source": [
    "Полный код будет выглядеть следующим образом:"
   ]
  },
  {
   "cell_type": "code",
   "execution_count": 2,
   "metadata": {},
   "outputs": [
    {
     "name": "stdout",
     "output_type": "stream",
     "text": [
      "Компьютер загадал число, Вам надо отгадать его за менее чем 20 попыток\n",
      "Загаданное число больше\n",
      "Загаданное число меньше\n",
      "Загаданное число меньше\n",
      "Загаданное число меньше\n",
      "Загаданное число больше\n",
      "Вы угадали число с 6 - ой попытки\n",
      "Загаданное число отгадано: 17\n"
     ]
    }
   ],
   "source": [
    "import numpy as np\n",
    "def random_predict(number: int = 1) -> int:\n",
    "    \"\"\"Угадываем число\n",
    "\n",
    "    Args:\n",
    "        number (int, optional): _Загаданное число_. Defaults to 1.\n",
    "\n",
    "    Returns:\n",
    "        int: с какой попытки угадали\n",
    "    \"\"\" \n",
    "        \n",
    "    number = np.random.randint(1, 101) # загадываем число\n",
    "    count = 0 # количество попыток\n",
    "    print('Компьютер загадал число, Вам надо отгадать его за менее чем 20 попыток')\n",
    "\n",
    "    for i in range(1, 21):\n",
    "        choice = int(input(\"Введите число: \"))\n",
    "        if choice > number:\n",
    "            print(\"Загаданное число меньше\")\n",
    "        elif choice < number:\n",
    "            print(\"Загаданное число больше\")\n",
    "        else:\n",
    "            print(f\"Вы угадали число с {i} - ой попытки\")\n",
    "            break\n",
    "        count += 1\n",
    "    \n",
    "    if count >= 20:\n",
    "        print(f\"Вы исчерпали все попытки, было загадано число {number}\")\n",
    "    return(number) \n",
    "\n",
    "print(f'Загаданное число отгадано: {random_predict()}')"
   ]
  },
  {
   "cell_type": "markdown",
   "metadata": {},
   "source": []
  },
  {
   "cell_type": "markdown",
   "metadata": {},
   "source": [
    "Мы можем запустить игру, учитывается ограничение в количестве попыток, также каждый раз компьютер нам подсказывает больше предполагаемого загаданное число или меньше."
   ]
  },
  {
   "cell_type": "code",
   "execution_count": null,
   "metadata": {},
   "outputs": [],
   "source": []
  }
 ],
 "metadata": {
  "kernelspec": {
   "display_name": "Python 3.10.8 64-bit",
   "language": "python",
   "name": "python3"
  },
  "language_info": {
   "codemirror_mode": {
    "name": "ipython",
    "version": 3
   },
   "file_extension": ".py",
   "mimetype": "text/x-python",
   "name": "python",
   "nbconvert_exporter": "python",
   "pygments_lexer": "ipython3",
   "version": "3.10.8"
  },
  "orig_nbformat": 4,
  "vscode": {
   "interpreter": {
    "hash": "aee8b7b246df8f9039afb4144a1f6fd8d2ca17a180786b69acc140d282b71a49"
   }
  }
 },
 "nbformat": 4,
 "nbformat_minor": 2
}
